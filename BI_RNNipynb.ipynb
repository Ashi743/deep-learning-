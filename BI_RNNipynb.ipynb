{
  "nbformat": 4,
  "nbformat_minor": 0,
  "metadata": {
    "colab": {
      "provenance": [],
      "gpuType": "V28",
      "authorship_tag": "ABX9TyNLQfzR02Tfujruc4gDFby4",
      "include_colab_link": true
    },
    "kernelspec": {
      "name": "python3",
      "display_name": "Python 3"
    },
    "language_info": {
      "name": "python"
    },
    "accelerator": "TPU"
  },
  "cells": [
    {
      "cell_type": "markdown",
      "metadata": {
        "id": "view-in-github",
        "colab_type": "text"
      },
      "source": [
        "<a href=\"https://colab.research.google.com/github/Ashi743/deep-learning-/blob/main/BI_RNNipynb.ipynb\" target=\"_parent\"><img src=\"https://colab.research.google.com/assets/colab-badge.svg\" alt=\"Open In Colab\"/></a>"
      ]
    },
    {
      "cell_type": "code",
      "execution_count": 1,
      "metadata": {
        "id": "SAsF5mgOrEjw"
      },
      "outputs": [],
      "source": [
        "import tensorflow  as tf\n",
        "from   tensorflow.keras.datasets import imdb\n",
        "from   tensorflow.keras import preprocessing\n",
        "from   tensorflow.keras.models import Sequential\n",
        "from   tensorflow.keras.layers import Flatten, Dense, Embedding ,Bidirectional, SimpleRNN, LSTM, GRU\n"
      ]
    },
    {
      "cell_type": "code",
      "source": [
        "num_words= 10000\n",
        "(train_data, train_labels), (test_data, test_labels) = imdb.load_data(num_words=num_words)"
      ],
      "metadata": {
        "colab": {
          "base_uri": "https://localhost:8080/"
        },
        "id": "_7cZLkQ4wpji",
        "outputId": "0ae5301d-3a70-4124-e225-cb3f5901c43a"
      },
      "execution_count": 2,
      "outputs": [
        {
          "output_type": "stream",
          "name": "stdout",
          "text": [
            "Downloading data from https://storage.googleapis.com/tensorflow/tf-keras-datasets/imdb.npz\n",
            "17464789/17464789 [==============================] - 0s 0us/step\n"
          ]
        }
      ]
    },
    {
      "cell_type": "code",
      "source": [
        "max_len= 100 # maximum sequnce length\n",
        "train_data= preprocessing.sequence.pad_sequences(train_data, maxlen=max_len, padding='post', truncating='post')\n",
        "test_data = preprocessing.sequence.pad_sequences(test_data,  maxlen=max_len, padding='post', truncating='post')\n"
      ],
      "metadata": {
        "id": "RFR-qp5uwpl-"
      },
      "execution_count": 3,
      "outputs": []
    },
    {
      "cell_type": "code",
      "source": [
        "Embedding_dim= 32\n",
        "model= Sequential(\n",
        "    [\n",
        "        Embedding(input_dim= num_words, output_dim= Embedding_dim, input_length=max_len),\n",
        "        SimpleRNN(5),\n",
        "        Dense(1, activation='sigmoid')\n",
        "    ]\n",
        "\n",
        ")\n",
        "\n",
        "model.build(input_shape=(None, 100))\n",
        "\n",
        "model.summary()"
      ],
      "metadata": {
        "colab": {
          "base_uri": "https://localhost:8080/"
        },
        "id": "qHjVR54Hwppg",
        "outputId": "e30c5c73-7954-49a4-f293-28e7e3749174"
      },
      "execution_count": 4,
      "outputs": [
        {
          "output_type": "stream",
          "name": "stdout",
          "text": [
            "Model: \"sequential\"\n",
            "_________________________________________________________________\n",
            " Layer (type)                Output Shape              Param #   \n",
            "=================================================================\n",
            " embedding (Embedding)       (None, 100, 32)           320000    \n",
            "                                                                 \n",
            " simple_rnn (SimpleRNN)      (None, 5)                 190       \n",
            "                                                                 \n",
            " dense (Dense)               (None, 1)                 6         \n",
            "                                                                 \n",
            "=================================================================\n",
            "Total params: 320196 (1.22 MB)\n",
            "Trainable params: 320196 (1.22 MB)\n",
            "Non-trainable params: 0 (0.00 Byte)\n",
            "_________________________________________________________________\n"
          ]
        }
      ]
    },
    {
      "cell_type": "code",
      "source": [
        "#wrapper bidirecitonal\n",
        "model2= Sequential(\n",
        "    [\n",
        "        Embedding(input_dim= num_words, output_dim= Embedding_dim, input_length=max_len),\n",
        "        Bidirectional(SimpleRNN(5)),\n",
        "        Dense(1, activation='sigmoid')\n",
        "    ]\n",
        "\n",
        ")\n",
        "\n",
        "model2.build(input_shape=(None, 100))\n",
        "\n",
        "model2.summary()"
      ],
      "metadata": {
        "colab": {
          "base_uri": "https://localhost:8080/"
        },
        "id": "NWzd_NqBxiGP",
        "outputId": "3098955f-140e-42d8-8045-7646ee2b67d3"
      },
      "execution_count": 6,
      "outputs": [
        {
          "output_type": "stream",
          "name": "stdout",
          "text": [
            "Model: \"sequential_1\"\n",
            "_________________________________________________________________\n",
            " Layer (type)                Output Shape              Param #   \n",
            "=================================================================\n",
            " embedding_1 (Embedding)     (None, 100, 32)           320000    \n",
            "                                                                 \n",
            " bidirectional (Bidirection  (None, 10)                380       \n",
            " al)                                                             \n",
            "                                                                 \n",
            " dense_1 (Dense)             (None, 1)                 11        \n",
            "                                                                 \n",
            "=================================================================\n",
            "Total params: 320391 (1.22 MB)\n",
            "Trainable params: 320391 (1.22 MB)\n",
            "Non-trainable params: 0 (0.00 Byte)\n",
            "_________________________________________________________________\n"
          ]
        }
      ]
    },
    {
      "cell_type": "code",
      "source": [
        "#wrapper bidirecitonal\n",
        "model3= Sequential(\n",
        "    [\n",
        "        Embedding(input_dim= num_words, output_dim= Embedding_dim, input_length=max_len),\n",
        "        Bidirectional(LSTM(5)),\n",
        "        Dense(1, activation='sigmoid')\n",
        "    ]\n",
        "\n",
        ")\n",
        "\n",
        "model3.build(input_shape=(None, 100))\n",
        "\n",
        "model3.summary()"
      ],
      "metadata": {
        "colab": {
          "base_uri": "https://localhost:8080/"
        },
        "id": "cKb5g4qnyGE1",
        "outputId": "e1e5a4eb-3ff2-481b-b4d1-8362ca2e69fd"
      },
      "execution_count": 9,
      "outputs": [
        {
          "output_type": "stream",
          "name": "stdout",
          "text": [
            "Model: \"sequential_2\"\n",
            "_________________________________________________________________\n",
            " Layer (type)                Output Shape              Param #   \n",
            "=================================================================\n",
            " embedding_2 (Embedding)     (None, 100, 32)           320000    \n",
            "                                                                 \n",
            " bidirectional_1 (Bidirecti  (None, 10)                1520      \n",
            " onal)                                                           \n",
            "                                                                 \n",
            " dense_2 (Dense)             (None, 1)                 11        \n",
            "                                                                 \n",
            "=================================================================\n",
            "Total params: 321531 (1.23 MB)\n",
            "Trainable params: 321531 (1.23 MB)\n",
            "Non-trainable params: 0 (0.00 Byte)\n",
            "_________________________________________________________________\n"
          ]
        }
      ]
    },
    {
      "cell_type": "code",
      "source": [
        "model.compile(optimizer='adam', loss='binary_crossentropy', metrics=['accuracy'])"
      ],
      "metadata": {
        "id": "kUFqHeeZxiCx"
      },
      "execution_count": 5,
      "outputs": []
    },
    {
      "cell_type": "code",
      "source": [
        "model2.compile(optimizer='adam', loss='binary_crossentropy', metrics=['accuracy'])"
      ],
      "metadata": {
        "id": "qvGMabX6xiIH"
      },
      "execution_count": 7,
      "outputs": []
    },
    {
      "cell_type": "code",
      "source": [
        "model3.compile(optimizer='adam', loss='binary_crossentropy', metrics=['accuracy'])"
      ],
      "metadata": {
        "id": "6-IyR1RpyVY2"
      },
      "execution_count": 10,
      "outputs": []
    },
    {
      "cell_type": "code",
      "source": [
        "history= model.fit(train_data, train_labels, epochs=10, batch_size=128, validation_split=0.2)"
      ],
      "metadata": {
        "colab": {
          "base_uri": "https://localhost:8080/"
        },
        "id": "gwk-_XldyOtl",
        "outputId": "d91a52da-e01a-4e84-d63a-71112d01ec7c"
      },
      "execution_count": 11,
      "outputs": [
        {
          "output_type": "stream",
          "name": "stdout",
          "text": [
            "Epoch 1/10\n",
            "157/157 [==============================] - 4s 23ms/step - loss: 0.1029 - accuracy: 0.9702 - val_loss: 0.6654 - val_accuracy: 0.7808\n",
            "Epoch 2/10\n",
            "157/157 [==============================] - 4s 23ms/step - loss: 0.1115 - accuracy: 0.9673 - val_loss: 0.6705 - val_accuracy: 0.7688\n",
            "Epoch 3/10\n",
            "157/157 [==============================] - 4s 23ms/step - loss: 0.0942 - accuracy: 0.9740 - val_loss: 0.7080 - val_accuracy: 0.7722\n",
            "Epoch 4/10\n",
            "157/157 [==============================] - 4s 23ms/step - loss: 0.0915 - accuracy: 0.9748 - val_loss: 0.7166 - val_accuracy: 0.7814\n",
            "Epoch 5/10\n",
            "157/157 [==============================] - 3s 22ms/step - loss: 0.0752 - accuracy: 0.9818 - val_loss: 0.7089 - val_accuracy: 0.7786\n",
            "Epoch 6/10\n",
            "157/157 [==============================] - 4s 23ms/step - loss: 0.0626 - accuracy: 0.9858 - val_loss: 0.7339 - val_accuracy: 0.7832\n",
            "Epoch 7/10\n",
            "157/157 [==============================] - 4s 24ms/step - loss: 0.0548 - accuracy: 0.9883 - val_loss: 0.7384 - val_accuracy: 0.7756\n",
            "Epoch 8/10\n",
            "157/157 [==============================] - 4s 23ms/step - loss: 0.0439 - accuracy: 0.9920 - val_loss: 0.7610 - val_accuracy: 0.7748\n",
            "Epoch 9/10\n",
            "157/157 [==============================] - 4s 23ms/step - loss: 0.0442 - accuracy: 0.9910 - val_loss: 0.8187 - val_accuracy: 0.7796\n",
            "Epoch 10/10\n",
            "157/157 [==============================] - 4s 23ms/step - loss: 0.0597 - accuracy: 0.9858 - val_loss: 0.8095 - val_accuracy: 0.7838\n"
          ]
        }
      ]
    },
    {
      "cell_type": "code",
      "source": [
        "\n",
        "history2= model2.fit(train_data, train_labels, epochs=10, batch_size=128, validation_split=0.2)"
      ],
      "metadata": {
        "colab": {
          "base_uri": "https://localhost:8080/"
        },
        "id": "wOsuf8W1x817",
        "outputId": "da565973-c57b-44e1-fa19-4d242308c63d"
      },
      "execution_count": 8,
      "outputs": [
        {
          "output_type": "stream",
          "name": "stdout",
          "text": [
            "Epoch 1/10\n",
            "157/157 [==============================] - 5s 23ms/step - loss: 0.5907 - accuracy: 0.7077 - val_loss: 0.5460 - val_accuracy: 0.7570\n",
            "Epoch 2/10\n",
            "157/157 [==============================] - 4s 24ms/step - loss: 0.4533 - accuracy: 0.8163 - val_loss: 0.5015 - val_accuracy: 0.7786\n",
            "Epoch 3/10\n",
            "157/157 [==============================] - 4s 23ms/step - loss: 0.3578 - accuracy: 0.8653 - val_loss: 0.4767 - val_accuracy: 0.7860\n",
            "Epoch 4/10\n",
            "157/157 [==============================] - 4s 23ms/step - loss: 0.2779 - accuracy: 0.9035 - val_loss: 0.4979 - val_accuracy: 0.7918\n",
            "Epoch 5/10\n",
            "157/157 [==============================] - 4s 23ms/step - loss: 0.2164 - accuracy: 0.9306 - val_loss: 0.5110 - val_accuracy: 0.7922\n",
            "Epoch 6/10\n",
            "157/157 [==============================] - 4s 23ms/step - loss: 0.1791 - accuracy: 0.9447 - val_loss: 0.5277 - val_accuracy: 0.7934\n",
            "Epoch 7/10\n",
            "157/157 [==============================] - 4s 23ms/step - loss: 0.1551 - accuracy: 0.9528 - val_loss: 0.5549 - val_accuracy: 0.7918\n",
            "Epoch 8/10\n",
            "157/157 [==============================] - 4s 23ms/step - loss: 0.1291 - accuracy: 0.9628 - val_loss: 0.5728 - val_accuracy: 0.7830\n",
            "Epoch 9/10\n",
            "157/157 [==============================] - 4s 23ms/step - loss: 0.1103 - accuracy: 0.9704 - val_loss: 0.6022 - val_accuracy: 0.7786\n",
            "Epoch 10/10\n",
            "157/157 [==============================] - 4s 23ms/step - loss: 0.1089 - accuracy: 0.9708 - val_loss: 0.6339 - val_accuracy: 0.7816\n",
            "Epoch 1/10\n",
            "157/157 [==============================] - 8s 38ms/step - loss: 0.6359 - accuracy: 0.6722 - val_loss: 0.6039 - val_accuracy: 0.7158\n",
            "Epoch 2/10\n",
            "157/157 [==============================] - 6s 36ms/step - loss: 0.5247 - accuracy: 0.7800 - val_loss: 0.5745 - val_accuracy: 0.7338\n",
            "Epoch 3/10\n",
            "157/157 [==============================] - 6s 36ms/step - loss: 0.3895 - accuracy: 0.8619 - val_loss: 0.5617 - val_accuracy: 0.7344\n",
            "Epoch 4/10\n",
            "157/157 [==============================] - 6s 36ms/step - loss: 0.2678 - accuracy: 0.9216 - val_loss: 0.5681 - val_accuracy: 0.7328\n",
            "Epoch 5/10\n",
            "157/157 [==============================] - 6s 36ms/step - loss: 0.1753 - accuracy: 0.9617 - val_loss: 0.6032 - val_accuracy: 0.7174\n",
            "Epoch 6/10\n",
            "157/157 [==============================] - 6s 36ms/step - loss: 0.1205 - accuracy: 0.9804 - val_loss: 0.6333 - val_accuracy: 0.7152\n",
            "Epoch 7/10\n",
            "157/157 [==============================] - 6s 36ms/step - loss: 0.0837 - accuracy: 0.9894 - val_loss: 0.6523 - val_accuracy: 0.7194\n",
            "Epoch 8/10\n",
            "157/157 [==============================] - 6s 36ms/step - loss: 0.0606 - accuracy: 0.9940 - val_loss: 0.6903 - val_accuracy: 0.7084\n",
            "Epoch 9/10\n",
            "157/157 [==============================] - 6s 36ms/step - loss: 0.0588 - accuracy: 0.9915 - val_loss: 0.7337 - val_accuracy: 0.7028\n",
            "Epoch 10/10\n",
            "157/157 [==============================] - 6s 36ms/step - loss: 0.0573 - accuracy: 0.9903 - val_loss: 0.7812 - val_accuracy: 0.6828\n"
          ]
        }
      ]
    },
    {
      "cell_type": "code",
      "source": [
        "history3= model3.fit(train_data, train_labels, epochs=10, batch_size=128, validation_split=0.2)"
      ],
      "metadata": {
        "colab": {
          "base_uri": "https://localhost:8080/"
        },
        "id": "4mccanptyYaB",
        "outputId": "87904402-6329-4745-b8ec-da98d8b04ca3"
      },
      "execution_count": 12,
      "outputs": [
        {
          "output_type": "stream",
          "name": "stdout",
          "text": [
            "Epoch 1/10\n",
            "157/157 [==============================] - 10s 43ms/step - loss: 0.6543 - accuracy: 0.6234 - val_loss: 0.4995 - val_accuracy: 0.7824\n",
            "Epoch 2/10\n",
            "157/157 [==============================] - 6s 39ms/step - loss: 0.3961 - accuracy: 0.8316 - val_loss: 0.3960 - val_accuracy: 0.8244\n",
            "Epoch 3/10\n",
            "157/157 [==============================] - 6s 39ms/step - loss: 0.2814 - accuracy: 0.8929 - val_loss: 0.3939 - val_accuracy: 0.8270\n",
            "Epoch 4/10\n",
            "157/157 [==============================] - 6s 38ms/step - loss: 0.2162 - accuracy: 0.9234 - val_loss: 0.4235 - val_accuracy: 0.8264\n",
            "Epoch 5/10\n",
            "157/157 [==============================] - 6s 39ms/step - loss: 0.1700 - accuracy: 0.9424 - val_loss: 0.4632 - val_accuracy: 0.8142\n",
            "Epoch 6/10\n",
            "157/157 [==============================] - 6s 39ms/step - loss: 0.1375 - accuracy: 0.9549 - val_loss: 0.5110 - val_accuracy: 0.8200\n",
            "Epoch 7/10\n",
            "157/157 [==============================] - 6s 38ms/step - loss: 0.1012 - accuracy: 0.9706 - val_loss: 0.5472 - val_accuracy: 0.8092\n",
            "Epoch 8/10\n",
            "157/157 [==============================] - 6s 38ms/step - loss: 0.0807 - accuracy: 0.9773 - val_loss: 0.6234 - val_accuracy: 0.8094\n",
            "Epoch 9/10\n",
            "157/157 [==============================] - 6s 38ms/step - loss: 0.0633 - accuracy: 0.9834 - val_loss: 0.6012 - val_accuracy: 0.8038\n",
            "Epoch 10/10\n",
            "157/157 [==============================] - 6s 38ms/step - loss: 0.0552 - accuracy: 0.9861 - val_loss: 0.6494 - val_accuracy: 0.8080\n"
          ]
        }
      ]
    }
  ]
}