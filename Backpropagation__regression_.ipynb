{
  "nbformat": 4,
  "nbformat_minor": 0,
  "metadata": {
    "colab": {
      "provenance": [],
      "authorship_tag": "ABX9TyOYV5RZp7kNDOLfQqcGWo6d",
      "include_colab_link": true
    },
    "kernelspec": {
      "name": "python3",
      "display_name": "Python 3"
    },
    "language_info": {
      "name": "python"
    }
  },
  "cells": [
    {
      "cell_type": "markdown",
      "metadata": {
        "id": "view-in-github",
        "colab_type": "text"
      },
      "source": [
        "<a href=\"https://colab.research.google.com/github/Ashi743/deep-learning-/blob/main/Backpropagation__regression_.ipynb\" target=\"_parent\"><img src=\"https://colab.research.google.com/assets/colab-badge.svg\" alt=\"Open In Colab\"/></a>"
      ]
    },
    {
      "cell_type": "code",
      "execution_count": 3,
      "metadata": {
        "colab": {
          "base_uri": "https://localhost:8080/",
          "height": 174
        },
        "id": "QZnyC40awh0T",
        "outputId": "00b1c4e3-a365-4781-abb2-81d20c27bf61"
      },
      "outputs": [
        {
          "output_type": "execute_result",
          "data": {
            "text/plain": [
              "   X1  X2  Y\n",
              "0   8   8  4\n",
              "1   7   9  5\n",
              "2   6  10  6\n",
              "3   5  12  7"
            ],
            "text/html": [
              "\n",
              "  <div id=\"df-2cc99c77-c75e-4a77-a854-6e6b08333d53\" class=\"colab-df-container\">\n",
              "    <div>\n",
              "<style scoped>\n",
              "    .dataframe tbody tr th:only-of-type {\n",
              "        vertical-align: middle;\n",
              "    }\n",
              "\n",
              "    .dataframe tbody tr th {\n",
              "        vertical-align: top;\n",
              "    }\n",
              "\n",
              "    .dataframe thead th {\n",
              "        text-align: right;\n",
              "    }\n",
              "</style>\n",
              "<table border=\"1\" class=\"dataframe\">\n",
              "  <thead>\n",
              "    <tr style=\"text-align: right;\">\n",
              "      <th></th>\n",
              "      <th>X1</th>\n",
              "      <th>X2</th>\n",
              "      <th>Y</th>\n",
              "    </tr>\n",
              "  </thead>\n",
              "  <tbody>\n",
              "    <tr>\n",
              "      <th>0</th>\n",
              "      <td>8</td>\n",
              "      <td>8</td>\n",
              "      <td>4</td>\n",
              "    </tr>\n",
              "    <tr>\n",
              "      <th>1</th>\n",
              "      <td>7</td>\n",
              "      <td>9</td>\n",
              "      <td>5</td>\n",
              "    </tr>\n",
              "    <tr>\n",
              "      <th>2</th>\n",
              "      <td>6</td>\n",
              "      <td>10</td>\n",
              "      <td>6</td>\n",
              "    </tr>\n",
              "    <tr>\n",
              "      <th>3</th>\n",
              "      <td>5</td>\n",
              "      <td>12</td>\n",
              "      <td>7</td>\n",
              "    </tr>\n",
              "  </tbody>\n",
              "</table>\n",
              "</div>\n",
              "    <div class=\"colab-df-buttons\">\n",
              "\n",
              "  <div class=\"colab-df-container\">\n",
              "    <button class=\"colab-df-convert\" onclick=\"convertToInteractive('df-2cc99c77-c75e-4a77-a854-6e6b08333d53')\"\n",
              "            title=\"Convert this dataframe to an interactive table.\"\n",
              "            style=\"display:none;\">\n",
              "\n",
              "  <svg xmlns=\"http://www.w3.org/2000/svg\" height=\"24px\" viewBox=\"0 -960 960 960\">\n",
              "    <path d=\"M120-120v-720h720v720H120Zm60-500h600v-160H180v160Zm220 220h160v-160H400v160Zm0 220h160v-160H400v160ZM180-400h160v-160H180v160Zm440 0h160v-160H620v160ZM180-180h160v-160H180v160Zm440 0h160v-160H620v160Z\"/>\n",
              "  </svg>\n",
              "    </button>\n",
              "\n",
              "  <style>\n",
              "    .colab-df-container {\n",
              "      display:flex;\n",
              "      gap: 12px;\n",
              "    }\n",
              "\n",
              "    .colab-df-convert {\n",
              "      background-color: #E8F0FE;\n",
              "      border: none;\n",
              "      border-radius: 50%;\n",
              "      cursor: pointer;\n",
              "      display: none;\n",
              "      fill: #1967D2;\n",
              "      height: 32px;\n",
              "      padding: 0 0 0 0;\n",
              "      width: 32px;\n",
              "    }\n",
              "\n",
              "    .colab-df-convert:hover {\n",
              "      background-color: #E2EBFA;\n",
              "      box-shadow: 0px 1px 2px rgba(60, 64, 67, 0.3), 0px 1px 3px 1px rgba(60, 64, 67, 0.15);\n",
              "      fill: #174EA6;\n",
              "    }\n",
              "\n",
              "    .colab-df-buttons div {\n",
              "      margin-bottom: 4px;\n",
              "    }\n",
              "\n",
              "    [theme=dark] .colab-df-convert {\n",
              "      background-color: #3B4455;\n",
              "      fill: #D2E3FC;\n",
              "    }\n",
              "\n",
              "    [theme=dark] .colab-df-convert:hover {\n",
              "      background-color: #434B5C;\n",
              "      box-shadow: 0px 1px 3px 1px rgba(0, 0, 0, 0.15);\n",
              "      filter: drop-shadow(0px 1px 2px rgba(0, 0, 0, 0.3));\n",
              "      fill: #FFFFFF;\n",
              "    }\n",
              "  </style>\n",
              "\n",
              "    <script>\n",
              "      const buttonEl =\n",
              "        document.querySelector('#df-2cc99c77-c75e-4a77-a854-6e6b08333d53 button.colab-df-convert');\n",
              "      buttonEl.style.display =\n",
              "        google.colab.kernel.accessAllowed ? 'block' : 'none';\n",
              "\n",
              "      async function convertToInteractive(key) {\n",
              "        const element = document.querySelector('#df-2cc99c77-c75e-4a77-a854-6e6b08333d53');\n",
              "        const dataTable =\n",
              "          await google.colab.kernel.invokeFunction('convertToInteractive',\n",
              "                                                    [key], {});\n",
              "        if (!dataTable) return;\n",
              "\n",
              "        const docLinkHtml = 'Like what you see? Visit the ' +\n",
              "          '<a target=\"_blank\" href=https://colab.research.google.com/notebooks/data_table.ipynb>data table notebook</a>'\n",
              "          + ' to learn more about interactive tables.';\n",
              "        element.innerHTML = '';\n",
              "        dataTable['output_type'] = 'display_data';\n",
              "        await google.colab.output.renderOutput(dataTable, element);\n",
              "        const docLink = document.createElement('div');\n",
              "        docLink.innerHTML = docLinkHtml;\n",
              "        element.appendChild(docLink);\n",
              "      }\n",
              "    </script>\n",
              "  </div>\n",
              "\n",
              "\n",
              "<div id=\"df-0351614e-2e94-4371-99e8-fef95a6a6cc7\">\n",
              "  <button class=\"colab-df-quickchart\" onclick=\"quickchart('df-0351614e-2e94-4371-99e8-fef95a6a6cc7')\"\n",
              "            title=\"Suggest charts\"\n",
              "            style=\"display:none;\">\n",
              "\n",
              "<svg xmlns=\"http://www.w3.org/2000/svg\" height=\"24px\"viewBox=\"0 0 24 24\"\n",
              "     width=\"24px\">\n",
              "    <g>\n",
              "        <path d=\"M19 3H5c-1.1 0-2 .9-2 2v14c0 1.1.9 2 2 2h14c1.1 0 2-.9 2-2V5c0-1.1-.9-2-2-2zM9 17H7v-7h2v7zm4 0h-2V7h2v10zm4 0h-2v-4h2v4z\"/>\n",
              "    </g>\n",
              "</svg>\n",
              "  </button>\n",
              "\n",
              "<style>\n",
              "  .colab-df-quickchart {\n",
              "      --bg-color: #E8F0FE;\n",
              "      --fill-color: #1967D2;\n",
              "      --hover-bg-color: #E2EBFA;\n",
              "      --hover-fill-color: #174EA6;\n",
              "      --disabled-fill-color: #AAA;\n",
              "      --disabled-bg-color: #DDD;\n",
              "  }\n",
              "\n",
              "  [theme=dark] .colab-df-quickchart {\n",
              "      --bg-color: #3B4455;\n",
              "      --fill-color: #D2E3FC;\n",
              "      --hover-bg-color: #434B5C;\n",
              "      --hover-fill-color: #FFFFFF;\n",
              "      --disabled-bg-color: #3B4455;\n",
              "      --disabled-fill-color: #666;\n",
              "  }\n",
              "\n",
              "  .colab-df-quickchart {\n",
              "    background-color: var(--bg-color);\n",
              "    border: none;\n",
              "    border-radius: 50%;\n",
              "    cursor: pointer;\n",
              "    display: none;\n",
              "    fill: var(--fill-color);\n",
              "    height: 32px;\n",
              "    padding: 0;\n",
              "    width: 32px;\n",
              "  }\n",
              "\n",
              "  .colab-df-quickchart:hover {\n",
              "    background-color: var(--hover-bg-color);\n",
              "    box-shadow: 0 1px 2px rgba(60, 64, 67, 0.3), 0 1px 3px 1px rgba(60, 64, 67, 0.15);\n",
              "    fill: var(--button-hover-fill-color);\n",
              "  }\n",
              "\n",
              "  .colab-df-quickchart-complete:disabled,\n",
              "  .colab-df-quickchart-complete:disabled:hover {\n",
              "    background-color: var(--disabled-bg-color);\n",
              "    fill: var(--disabled-fill-color);\n",
              "    box-shadow: none;\n",
              "  }\n",
              "\n",
              "  .colab-df-spinner {\n",
              "    border: 2px solid var(--fill-color);\n",
              "    border-color: transparent;\n",
              "    border-bottom-color: var(--fill-color);\n",
              "    animation:\n",
              "      spin 1s steps(1) infinite;\n",
              "  }\n",
              "\n",
              "  @keyframes spin {\n",
              "    0% {\n",
              "      border-color: transparent;\n",
              "      border-bottom-color: var(--fill-color);\n",
              "      border-left-color: var(--fill-color);\n",
              "    }\n",
              "    20% {\n",
              "      border-color: transparent;\n",
              "      border-left-color: var(--fill-color);\n",
              "      border-top-color: var(--fill-color);\n",
              "    }\n",
              "    30% {\n",
              "      border-color: transparent;\n",
              "      border-left-color: var(--fill-color);\n",
              "      border-top-color: var(--fill-color);\n",
              "      border-right-color: var(--fill-color);\n",
              "    }\n",
              "    40% {\n",
              "      border-color: transparent;\n",
              "      border-right-color: var(--fill-color);\n",
              "      border-top-color: var(--fill-color);\n",
              "    }\n",
              "    60% {\n",
              "      border-color: transparent;\n",
              "      border-right-color: var(--fill-color);\n",
              "    }\n",
              "    80% {\n",
              "      border-color: transparent;\n",
              "      border-right-color: var(--fill-color);\n",
              "      border-bottom-color: var(--fill-color);\n",
              "    }\n",
              "    90% {\n",
              "      border-color: transparent;\n",
              "      border-bottom-color: var(--fill-color);\n",
              "    }\n",
              "  }\n",
              "</style>\n",
              "\n",
              "  <script>\n",
              "    async function quickchart(key) {\n",
              "      const quickchartButtonEl =\n",
              "        document.querySelector('#' + key + ' button');\n",
              "      quickchartButtonEl.disabled = true;  // To prevent multiple clicks.\n",
              "      quickchartButtonEl.classList.add('colab-df-spinner');\n",
              "      try {\n",
              "        const charts = await google.colab.kernel.invokeFunction(\n",
              "            'suggestCharts', [key], {});\n",
              "      } catch (error) {\n",
              "        console.error('Error during call to suggestCharts:', error);\n",
              "      }\n",
              "      quickchartButtonEl.classList.remove('colab-df-spinner');\n",
              "      quickchartButtonEl.classList.add('colab-df-quickchart-complete');\n",
              "    }\n",
              "    (() => {\n",
              "      let quickchartButtonEl =\n",
              "        document.querySelector('#df-0351614e-2e94-4371-99e8-fef95a6a6cc7 button');\n",
              "      quickchartButtonEl.style.display =\n",
              "        google.colab.kernel.accessAllowed ? 'block' : 'none';\n",
              "    })();\n",
              "  </script>\n",
              "</div>\n",
              "\n",
              "  <div id=\"id_8f3c7f48-bc6d-432f-8f91-2c8102175d50\">\n",
              "    <style>\n",
              "      .colab-df-generate {\n",
              "        background-color: #E8F0FE;\n",
              "        border: none;\n",
              "        border-radius: 50%;\n",
              "        cursor: pointer;\n",
              "        display: none;\n",
              "        fill: #1967D2;\n",
              "        height: 32px;\n",
              "        padding: 0 0 0 0;\n",
              "        width: 32px;\n",
              "      }\n",
              "\n",
              "      .colab-df-generate:hover {\n",
              "        background-color: #E2EBFA;\n",
              "        box-shadow: 0px 1px 2px rgba(60, 64, 67, 0.3), 0px 1px 3px 1px rgba(60, 64, 67, 0.15);\n",
              "        fill: #174EA6;\n",
              "      }\n",
              "\n",
              "      [theme=dark] .colab-df-generate {\n",
              "        background-color: #3B4455;\n",
              "        fill: #D2E3FC;\n",
              "      }\n",
              "\n",
              "      [theme=dark] .colab-df-generate:hover {\n",
              "        background-color: #434B5C;\n",
              "        box-shadow: 0px 1px 3px 1px rgba(0, 0, 0, 0.15);\n",
              "        filter: drop-shadow(0px 1px 2px rgba(0, 0, 0, 0.3));\n",
              "        fill: #FFFFFF;\n",
              "      }\n",
              "    </style>\n",
              "    <button class=\"colab-df-generate\" onclick=\"generateWithVariable('df')\"\n",
              "            title=\"Generate code using this dataframe.\"\n",
              "            style=\"display:none;\">\n",
              "\n",
              "  <svg xmlns=\"http://www.w3.org/2000/svg\" height=\"24px\"viewBox=\"0 0 24 24\"\n",
              "       width=\"24px\">\n",
              "    <path d=\"M7,19H8.4L18.45,9,17,7.55,7,17.6ZM5,21V16.75L18.45,3.32a2,2,0,0,1,2.83,0l1.4,1.43a1.91,1.91,0,0,1,.58,1.4,1.91,1.91,0,0,1-.58,1.4L9.25,21ZM18.45,9,17,7.55Zm-12,3A5.31,5.31,0,0,0,4.9,8.1,5.31,5.31,0,0,0,1,6.5,5.31,5.31,0,0,0,4.9,4.9,5.31,5.31,0,0,0,6.5,1,5.31,5.31,0,0,0,8.1,4.9,5.31,5.31,0,0,0,12,6.5,5.46,5.46,0,0,0,6.5,12Z\"/>\n",
              "  </svg>\n",
              "    </button>\n",
              "    <script>\n",
              "      (() => {\n",
              "      const buttonEl =\n",
              "        document.querySelector('#id_8f3c7f48-bc6d-432f-8f91-2c8102175d50 button.colab-df-generate');\n",
              "      buttonEl.style.display =\n",
              "        google.colab.kernel.accessAllowed ? 'block' : 'none';\n",
              "\n",
              "      buttonEl.onclick = () => {\n",
              "        google.colab.notebook.generateWithVariable('df');\n",
              "      }\n",
              "      })();\n",
              "    </script>\n",
              "  </div>\n",
              "\n",
              "    </div>\n",
              "  </div>\n"
            ],
            "application/vnd.google.colaboratory.intrinsic+json": {
              "type": "dataframe",
              "variable_name": "df",
              "summary": "{\n  \"name\": \"df\",\n  \"rows\": 4,\n  \"fields\": [\n    {\n      \"column\": \"X1\",\n      \"properties\": {\n        \"dtype\": \"number\",\n        \"std\": 1,\n        \"min\": 5,\n        \"max\": 8,\n        \"num_unique_values\": 4,\n        \"samples\": [\n          7,\n          5,\n          8\n        ],\n        \"semantic_type\": \"\",\n        \"description\": \"\"\n      }\n    },\n    {\n      \"column\": \"X2\",\n      \"properties\": {\n        \"dtype\": \"number\",\n        \"std\": 1,\n        \"min\": 8,\n        \"max\": 12,\n        \"num_unique_values\": 4,\n        \"samples\": [\n          9,\n          12,\n          8\n        ],\n        \"semantic_type\": \"\",\n        \"description\": \"\"\n      }\n    },\n    {\n      \"column\": \"Y\",\n      \"properties\": {\n        \"dtype\": \"number\",\n        \"std\": 1,\n        \"min\": 4,\n        \"max\": 7,\n        \"num_unique_values\": 4,\n        \"samples\": [\n          5,\n          7,\n          4\n        ],\n        \"semantic_type\": \"\",\n        \"description\": \"\"\n      }\n    }\n  ]\n}"
            }
          },
          "metadata": {},
          "execution_count": 3
        }
      ],
      "source": [
        "import numpy as np\n",
        "import pandas as pd\n",
        "df= pd.DataFrame([ [8,8,4], [7,9,5], [6,10,6], [5,12,7] ], columns=['X1','X2','Y'])\n",
        "df"
      ]
    },
    {
      "cell_type": "code",
      "source": [
        "#keras\n",
        "import tensorflow as tf\n",
        "from tensorflow import keras\n",
        "from tensorflow.keras import layers\n",
        "from tensorflow.keras.models import Sequential\n",
        "from tensorflow.keras.layers import Dense, Dropout, Activation, Flatten"
      ],
      "metadata": {
        "id": "Zr7neX79eax1"
      },
      "execution_count": 66,
      "outputs": []
    },
    {
      "cell_type": "code",
      "source": [
        "model= Sequential()\n",
        "model.add(Dense(2, input_dim=2, activation='linear'))\n",
        "model.add(Dense(1, activation='linear'))\n",
        "model.summary()\n",
        "model.get_weights()"
      ],
      "metadata": {
        "colab": {
          "base_uri": "https://localhost:8080/",
          "height": 362
        },
        "id": "5swa8F-Hem1S",
        "outputId": "6e20c569-7555-4193-f538-1610b296c3c4"
      },
      "execution_count": 67,
      "outputs": [
        {
          "output_type": "stream",
          "name": "stderr",
          "text": [
            "/usr/local/lib/python3.10/dist-packages/keras/src/layers/core/dense.py:87: UserWarning: Do not pass an `input_shape`/`input_dim` argument to a layer. When using Sequential models, prefer using an `Input(shape)` object as the first layer in the model instead.\n",
            "  super().__init__(activity_regularizer=activity_regularizer, **kwargs)\n"
          ]
        },
        {
          "output_type": "display_data",
          "data": {
            "text/plain": [
              "\u001b[1mModel: \"sequential\"\u001b[0m\n"
            ],
            "text/html": [
              "<pre style=\"white-space:pre;overflow-x:auto;line-height:normal;font-family:Menlo,'DejaVu Sans Mono',consolas,'Courier New',monospace\"><span style=\"font-weight: bold\">Model: \"sequential\"</span>\n",
              "</pre>\n"
            ]
          },
          "metadata": {}
        },
        {
          "output_type": "display_data",
          "data": {
            "text/plain": [
              "┏━━━━━━━━━━━━━━━━━━━━━━━━━━━━━━━━━━━━━━┳━━━━━━━━━━━━━━━━━━━━━━━━━━━━━┳━━━━━━━━━━━━━━━━━┓\n",
              "┃\u001b[1m \u001b[0m\u001b[1mLayer (type)                        \u001b[0m\u001b[1m \u001b[0m┃\u001b[1m \u001b[0m\u001b[1mOutput Shape               \u001b[0m\u001b[1m \u001b[0m┃\u001b[1m \u001b[0m\u001b[1m        Param #\u001b[0m\u001b[1m \u001b[0m┃\n",
              "┡━━━━━━━━━━━━━━━━━━━━━━━━━━━━━━━━━━━━━━╇━━━━━━━━━━━━━━━━━━━━━━━━━━━━━╇━━━━━━━━━━━━━━━━━┩\n",
              "│ dense (\u001b[38;5;33mDense\u001b[0m)                        │ (\u001b[38;5;45mNone\u001b[0m, \u001b[38;5;34m2\u001b[0m)                   │               \u001b[38;5;34m6\u001b[0m │\n",
              "├──────────────────────────────────────┼─────────────────────────────┼─────────────────┤\n",
              "│ dense_1 (\u001b[38;5;33mDense\u001b[0m)                      │ (\u001b[38;5;45mNone\u001b[0m, \u001b[38;5;34m1\u001b[0m)                   │               \u001b[38;5;34m3\u001b[0m │\n",
              "└──────────────────────────────────────┴─────────────────────────────┴─────────────────┘\n"
            ],
            "text/html": [
              "<pre style=\"white-space:pre;overflow-x:auto;line-height:normal;font-family:Menlo,'DejaVu Sans Mono',consolas,'Courier New',monospace\">┏━━━━━━━━━━━━━━━━━━━━━━━━━━━━━━━━━━━━━━┳━━━━━━━━━━━━━━━━━━━━━━━━━━━━━┳━━━━━━━━━━━━━━━━━┓\n",
              "┃<span style=\"font-weight: bold\"> Layer (type)                         </span>┃<span style=\"font-weight: bold\"> Output Shape                </span>┃<span style=\"font-weight: bold\">         Param # </span>┃\n",
              "┡━━━━━━━━━━━━━━━━━━━━━━━━━━━━━━━━━━━━━━╇━━━━━━━━━━━━━━━━━━━━━━━━━━━━━╇━━━━━━━━━━━━━━━━━┩\n",
              "│ dense (<span style=\"color: #0087ff; text-decoration-color: #0087ff\">Dense</span>)                        │ (<span style=\"color: #00d7ff; text-decoration-color: #00d7ff\">None</span>, <span style=\"color: #00af00; text-decoration-color: #00af00\">2</span>)                   │               <span style=\"color: #00af00; text-decoration-color: #00af00\">6</span> │\n",
              "├──────────────────────────────────────┼─────────────────────────────┼─────────────────┤\n",
              "│ dense_1 (<span style=\"color: #0087ff; text-decoration-color: #0087ff\">Dense</span>)                      │ (<span style=\"color: #00d7ff; text-decoration-color: #00d7ff\">None</span>, <span style=\"color: #00af00; text-decoration-color: #00af00\">1</span>)                   │               <span style=\"color: #00af00; text-decoration-color: #00af00\">3</span> │\n",
              "└──────────────────────────────────────┴─────────────────────────────┴─────────────────┘\n",
              "</pre>\n"
            ]
          },
          "metadata": {}
        },
        {
          "output_type": "display_data",
          "data": {
            "text/plain": [
              "\u001b[1m Total params: \u001b[0m\u001b[38;5;34m9\u001b[0m (36.00 B)\n"
            ],
            "text/html": [
              "<pre style=\"white-space:pre;overflow-x:auto;line-height:normal;font-family:Menlo,'DejaVu Sans Mono',consolas,'Courier New',monospace\"><span style=\"font-weight: bold\"> Total params: </span><span style=\"color: #00af00; text-decoration-color: #00af00\">9</span> (36.00 B)\n",
              "</pre>\n"
            ]
          },
          "metadata": {}
        },
        {
          "output_type": "display_data",
          "data": {
            "text/plain": [
              "\u001b[1m Trainable params: \u001b[0m\u001b[38;5;34m9\u001b[0m (36.00 B)\n"
            ],
            "text/html": [
              "<pre style=\"white-space:pre;overflow-x:auto;line-height:normal;font-family:Menlo,'DejaVu Sans Mono',consolas,'Courier New',monospace\"><span style=\"font-weight: bold\"> Trainable params: </span><span style=\"color: #00af00; text-decoration-color: #00af00\">9</span> (36.00 B)\n",
              "</pre>\n"
            ]
          },
          "metadata": {}
        },
        {
          "output_type": "display_data",
          "data": {
            "text/plain": [
              "\u001b[1m Non-trainable params: \u001b[0m\u001b[38;5;34m0\u001b[0m (0.00 B)\n"
            ],
            "text/html": [
              "<pre style=\"white-space:pre;overflow-x:auto;line-height:normal;font-family:Menlo,'DejaVu Sans Mono',consolas,'Courier New',monospace\"><span style=\"font-weight: bold\"> Non-trainable params: </span><span style=\"color: #00af00; text-decoration-color: #00af00\">0</span> (0.00 B)\n",
              "</pre>\n"
            ]
          },
          "metadata": {}
        },
        {
          "output_type": "execute_result",
          "data": {
            "text/plain": [
              "[array([[-0.43974322,  0.50359595],\n",
              "        [ 0.44523406, -1.2117636 ]], dtype=float32),\n",
              " array([0., 0.], dtype=float32),\n",
              " array([[ 0.1718229 ],\n",
              "        [-0.53591675]], dtype=float32),\n",
              " array([0.], dtype=float32)]"
            ]
          },
          "metadata": {},
          "execution_count": 67
        }
      ]
    },
    {
      "cell_type": "code",
      "source": [
        "new_weights= [np.array([[ 0.1, 0.1],\n",
        "                        [ 0.1, 0.1]], dtype=np.float32),\n",
        "              np.array( [0., 0.], dtype=np.float32),\n",
        "              np.array([[ 0.1],\n",
        "                        [ 0.1]], dtype=np.float32),\n",
        "\n",
        "              np.array([0.], dtype=np.float32)]\n",
        "model.set_weights(new_weights)"
      ],
      "metadata": {
        "id": "jVoZsVsZem4v"
      },
      "execution_count": 70,
      "outputs": []
    },
    {
      "cell_type": "code",
      "source": [
        "model.get_weights()"
      ],
      "metadata": {
        "colab": {
          "base_uri": "https://localhost:8080/"
        },
        "id": "FBardZICem8D",
        "outputId": "0da097ea-d7ed-4768-d655-7affe32b4f6b"
      },
      "execution_count": 71,
      "outputs": [
        {
          "output_type": "execute_result",
          "data": {
            "text/plain": [
              "[array([[0.1, 0.1],\n",
              "        [0.1, 0.1]], dtype=float32),\n",
              " array([0., 0.], dtype=float32),\n",
              " array([[0.1],\n",
              "        [0.1]], dtype=float32),\n",
              " array([0.], dtype=float32)]"
            ]
          },
          "metadata": {},
          "execution_count": 71
        }
      ]
    },
    {
      "cell_type": "code",
      "source": [
        "optimizer= keras.optimizers.Adam(learning_rate=0.001)\n",
        "model.compile(loss='mean_squared_error', optimizer=optimizer)"
      ],
      "metadata": {
        "id": "cZQZ-yyNem_M"
      },
      "execution_count": 72,
      "outputs": []
    },
    {
      "cell_type": "code",
      "source": [
        "model.fit(df[[\"X1\",\"X2\"]].values, df[\"Y\"].values, epochs=75)"
      ],
      "metadata": {
        "colab": {
          "base_uri": "https://localhost:8080/"
        },
        "id": "wrwuB-DXfunx",
        "outputId": "5694f0c4-48b7-4532-87f9-0f53b92b694c"
      },
      "execution_count": 74,
      "outputs": [
        {
          "output_type": "stream",
          "name": "stdout",
          "text": [
            "Epoch 1/75\n",
            "\u001b[1m1/1\u001b[0m \u001b[32m━━━━━━━━━━━━━━━━━━━━\u001b[0m\u001b[37m\u001b[0m \u001b[1m0s\u001b[0m 42ms/step - loss: 27.6081\n",
            "Epoch 2/75\n",
            "\u001b[1m1/1\u001b[0m \u001b[32m━━━━━━━━━━━━━━━━━━━━\u001b[0m\u001b[37m\u001b[0m \u001b[1m0s\u001b[0m 62ms/step - loss: 27.5247\n",
            "Epoch 3/75\n",
            "\u001b[1m1/1\u001b[0m \u001b[32m━━━━━━━━━━━━━━━━━━━━\u001b[0m\u001b[37m\u001b[0m \u001b[1m0s\u001b[0m 59ms/step - loss: 27.4406\n",
            "Epoch 4/75\n",
            "\u001b[1m1/1\u001b[0m \u001b[32m━━━━━━━━━━━━━━━━━━━━\u001b[0m\u001b[37m\u001b[0m \u001b[1m0s\u001b[0m 36ms/step - loss: 27.3559\n",
            "Epoch 5/75\n",
            "\u001b[1m1/1\u001b[0m \u001b[32m━━━━━━━━━━━━━━━━━━━━\u001b[0m\u001b[37m\u001b[0m \u001b[1m0s\u001b[0m 58ms/step - loss: 27.2705\n",
            "Epoch 6/75\n",
            "\u001b[1m1/1\u001b[0m \u001b[32m━━━━━━━━━━━━━━━━━━━━\u001b[0m\u001b[37m\u001b[0m \u001b[1m0s\u001b[0m 40ms/step - loss: 27.1845\n",
            "Epoch 7/75\n",
            "\u001b[1m1/1\u001b[0m \u001b[32m━━━━━━━━━━━━━━━━━━━━\u001b[0m\u001b[37m\u001b[0m \u001b[1m0s\u001b[0m 42ms/step - loss: 27.0978\n",
            "Epoch 8/75\n",
            "\u001b[1m1/1\u001b[0m \u001b[32m━━━━━━━━━━━━━━━━━━━━\u001b[0m\u001b[37m\u001b[0m \u001b[1m0s\u001b[0m 69ms/step - loss: 27.0104\n",
            "Epoch 9/75\n",
            "\u001b[1m1/1\u001b[0m \u001b[32m━━━━━━━━━━━━━━━━━━━━\u001b[0m\u001b[37m\u001b[0m \u001b[1m0s\u001b[0m 47ms/step - loss: 26.9223\n",
            "Epoch 10/75\n",
            "\u001b[1m1/1\u001b[0m \u001b[32m━━━━━━━━━━━━━━━━━━━━\u001b[0m\u001b[37m\u001b[0m \u001b[1m0s\u001b[0m 58ms/step - loss: 26.8336\n",
            "Epoch 11/75\n",
            "\u001b[1m1/1\u001b[0m \u001b[32m━━━━━━━━━━━━━━━━━━━━\u001b[0m\u001b[37m\u001b[0m \u001b[1m0s\u001b[0m 59ms/step - loss: 26.7441\n",
            "Epoch 12/75\n",
            "\u001b[1m1/1\u001b[0m \u001b[32m━━━━━━━━━━━━━━━━━━━━\u001b[0m\u001b[37m\u001b[0m \u001b[1m0s\u001b[0m 59ms/step - loss: 26.6539\n",
            "Epoch 13/75\n",
            "\u001b[1m1/1\u001b[0m \u001b[32m━━━━━━━━━━━━━━━━━━━━\u001b[0m\u001b[37m\u001b[0m \u001b[1m0s\u001b[0m 58ms/step - loss: 26.5631\n",
            "Epoch 14/75\n",
            "\u001b[1m1/1\u001b[0m \u001b[32m━━━━━━━━━━━━━━━━━━━━\u001b[0m\u001b[37m\u001b[0m \u001b[1m0s\u001b[0m 61ms/step - loss: 26.4715\n",
            "Epoch 15/75\n",
            "\u001b[1m1/1\u001b[0m \u001b[32m━━━━━━━━━━━━━━━━━━━━\u001b[0m\u001b[37m\u001b[0m \u001b[1m0s\u001b[0m 46ms/step - loss: 26.3792\n",
            "Epoch 16/75\n",
            "\u001b[1m1/1\u001b[0m \u001b[32m━━━━━━━━━━━━━━━━━━━━\u001b[0m\u001b[37m\u001b[0m \u001b[1m0s\u001b[0m 47ms/step - loss: 26.2862\n",
            "Epoch 17/75\n",
            "\u001b[1m1/1\u001b[0m \u001b[32m━━━━━━━━━━━━━━━━━━━━\u001b[0m\u001b[37m\u001b[0m \u001b[1m0s\u001b[0m 60ms/step - loss: 26.1924\n",
            "Epoch 18/75\n",
            "\u001b[1m1/1\u001b[0m \u001b[32m━━━━━━━━━━━━━━━━━━━━\u001b[0m\u001b[37m\u001b[0m \u001b[1m0s\u001b[0m 66ms/step - loss: 26.0980\n",
            "Epoch 19/75\n",
            "\u001b[1m1/1\u001b[0m \u001b[32m━━━━━━━━━━━━━━━━━━━━\u001b[0m\u001b[37m\u001b[0m \u001b[1m0s\u001b[0m 56ms/step - loss: 26.0028\n",
            "Epoch 20/75\n",
            "\u001b[1m1/1\u001b[0m \u001b[32m━━━━━━━━━━━━━━━━━━━━\u001b[0m\u001b[37m\u001b[0m \u001b[1m0s\u001b[0m 40ms/step - loss: 25.9068\n",
            "Epoch 21/75\n",
            "\u001b[1m1/1\u001b[0m \u001b[32m━━━━━━━━━━━━━━━━━━━━\u001b[0m\u001b[37m\u001b[0m \u001b[1m0s\u001b[0m 51ms/step - loss: 25.8102\n",
            "Epoch 22/75\n",
            "\u001b[1m1/1\u001b[0m \u001b[32m━━━━━━━━━━━━━━━━━━━━\u001b[0m\u001b[37m\u001b[0m \u001b[1m0s\u001b[0m 142ms/step - loss: 25.7128\n",
            "Epoch 23/75\n",
            "\u001b[1m1/1\u001b[0m \u001b[32m━━━━━━━━━━━━━━━━━━━━\u001b[0m\u001b[37m\u001b[0m \u001b[1m0s\u001b[0m 51ms/step - loss: 25.6146\n",
            "Epoch 24/75\n",
            "\u001b[1m1/1\u001b[0m \u001b[32m━━━━━━━━━━━━━━━━━━━━\u001b[0m\u001b[37m\u001b[0m \u001b[1m0s\u001b[0m 54ms/step - loss: 25.5157\n",
            "Epoch 25/75\n",
            "\u001b[1m1/1\u001b[0m \u001b[32m━━━━━━━━━━━━━━━━━━━━\u001b[0m\u001b[37m\u001b[0m \u001b[1m0s\u001b[0m 59ms/step - loss: 25.4161\n",
            "Epoch 26/75\n",
            "\u001b[1m1/1\u001b[0m \u001b[32m━━━━━━━━━━━━━━━━━━━━\u001b[0m\u001b[37m\u001b[0m \u001b[1m0s\u001b[0m 45ms/step - loss: 25.3157\n",
            "Epoch 27/75\n",
            "\u001b[1m1/1\u001b[0m \u001b[32m━━━━━━━━━━━━━━━━━━━━\u001b[0m\u001b[37m\u001b[0m \u001b[1m0s\u001b[0m 41ms/step - loss: 25.2146\n",
            "Epoch 28/75\n",
            "\u001b[1m1/1\u001b[0m \u001b[32m━━━━━━━━━━━━━━━━━━━━\u001b[0m\u001b[37m\u001b[0m \u001b[1m0s\u001b[0m 61ms/step - loss: 25.1127\n",
            "Epoch 29/75\n",
            "\u001b[1m1/1\u001b[0m \u001b[32m━━━━━━━━━━━━━━━━━━━━\u001b[0m\u001b[37m\u001b[0m \u001b[1m0s\u001b[0m 40ms/step - loss: 25.0101\n",
            "Epoch 30/75\n",
            "\u001b[1m1/1\u001b[0m \u001b[32m━━━━━━━━━━━━━━━━━━━━\u001b[0m\u001b[37m\u001b[0m \u001b[1m0s\u001b[0m 62ms/step - loss: 24.9068\n",
            "Epoch 31/75\n",
            "\u001b[1m1/1\u001b[0m \u001b[32m━━━━━━━━━━━━━━━━━━━━\u001b[0m\u001b[37m\u001b[0m \u001b[1m0s\u001b[0m 49ms/step - loss: 24.8027\n",
            "Epoch 32/75\n",
            "\u001b[1m1/1\u001b[0m \u001b[32m━━━━━━━━━━━━━━━━━━━━\u001b[0m\u001b[37m\u001b[0m \u001b[1m0s\u001b[0m 71ms/step - loss: 24.6979\n",
            "Epoch 33/75\n",
            "\u001b[1m1/1\u001b[0m \u001b[32m━━━━━━━━━━━━━━━━━━━━\u001b[0m\u001b[37m\u001b[0m \u001b[1m0s\u001b[0m 46ms/step - loss: 24.5923\n",
            "Epoch 34/75\n",
            "\u001b[1m1/1\u001b[0m \u001b[32m━━━━━━━━━━━━━━━━━━━━\u001b[0m\u001b[37m\u001b[0m \u001b[1m0s\u001b[0m 54ms/step - loss: 24.4860\n",
            "Epoch 35/75\n",
            "\u001b[1m1/1\u001b[0m \u001b[32m━━━━━━━━━━━━━━━━━━━━\u001b[0m\u001b[37m\u001b[0m \u001b[1m0s\u001b[0m 61ms/step - loss: 24.3790\n",
            "Epoch 36/75\n",
            "\u001b[1m1/1\u001b[0m \u001b[32m━━━━━━━━━━━━━━━━━━━━\u001b[0m\u001b[37m\u001b[0m \u001b[1m0s\u001b[0m 134ms/step - loss: 24.2713\n",
            "Epoch 37/75\n",
            "\u001b[1m1/1\u001b[0m \u001b[32m━━━━━━━━━━━━━━━━━━━━\u001b[0m\u001b[37m\u001b[0m \u001b[1m0s\u001b[0m 28ms/step - loss: 24.1628\n",
            "Epoch 38/75\n",
            "\u001b[1m1/1\u001b[0m \u001b[32m━━━━━━━━━━━━━━━━━━━━\u001b[0m\u001b[37m\u001b[0m \u001b[1m0s\u001b[0m 28ms/step - loss: 24.0536\n",
            "Epoch 39/75\n",
            "\u001b[1m1/1\u001b[0m \u001b[32m━━━━━━━━━━━━━━━━━━━━\u001b[0m\u001b[37m\u001b[0m \u001b[1m0s\u001b[0m 28ms/step - loss: 23.9437\n",
            "Epoch 40/75\n",
            "\u001b[1m1/1\u001b[0m \u001b[32m━━━━━━━━━━━━━━━━━━━━\u001b[0m\u001b[37m\u001b[0m \u001b[1m0s\u001b[0m 31ms/step - loss: 23.8330\n",
            "Epoch 41/75\n",
            "\u001b[1m1/1\u001b[0m \u001b[32m━━━━━━━━━━━━━━━━━━━━\u001b[0m\u001b[37m\u001b[0m \u001b[1m0s\u001b[0m 59ms/step - loss: 23.7217\n",
            "Epoch 42/75\n",
            "\u001b[1m1/1\u001b[0m \u001b[32m━━━━━━━━━━━━━━━━━━━━\u001b[0m\u001b[37m\u001b[0m \u001b[1m0s\u001b[0m 30ms/step - loss: 23.6097\n",
            "Epoch 43/75\n",
            "\u001b[1m1/1\u001b[0m \u001b[32m━━━━━━━━━━━━━━━━━━━━\u001b[0m\u001b[37m\u001b[0m \u001b[1m0s\u001b[0m 32ms/step - loss: 23.4969\n",
            "Epoch 44/75\n",
            "\u001b[1m1/1\u001b[0m \u001b[32m━━━━━━━━━━━━━━━━━━━━\u001b[0m\u001b[37m\u001b[0m \u001b[1m0s\u001b[0m 59ms/step - loss: 23.3835\n",
            "Epoch 45/75\n",
            "\u001b[1m1/1\u001b[0m \u001b[32m━━━━━━━━━━━━━━━━━━━━\u001b[0m\u001b[37m\u001b[0m \u001b[1m0s\u001b[0m 29ms/step - loss: 23.2693\n",
            "Epoch 46/75\n",
            "\u001b[1m1/1\u001b[0m \u001b[32m━━━━━━━━━━━━━━━━━━━━\u001b[0m\u001b[37m\u001b[0m \u001b[1m0s\u001b[0m 28ms/step - loss: 23.1545\n",
            "Epoch 47/75\n",
            "\u001b[1m1/1\u001b[0m \u001b[32m━━━━━━━━━━━━━━━━━━━━\u001b[0m\u001b[37m\u001b[0m \u001b[1m0s\u001b[0m 59ms/step - loss: 23.0390\n",
            "Epoch 48/75\n",
            "\u001b[1m1/1\u001b[0m \u001b[32m━━━━━━━━━━━━━━━━━━━━\u001b[0m\u001b[37m\u001b[0m \u001b[1m0s\u001b[0m 29ms/step - loss: 22.9229\n",
            "Epoch 49/75\n",
            "\u001b[1m1/1\u001b[0m \u001b[32m━━━━━━━━━━━━━━━━━━━━\u001b[0m\u001b[37m\u001b[0m \u001b[1m0s\u001b[0m 28ms/step - loss: 22.8061\n",
            "Epoch 50/75\n",
            "\u001b[1m1/1\u001b[0m \u001b[32m━━━━━━━━━━━━━━━━━━━━\u001b[0m\u001b[37m\u001b[0m \u001b[1m0s\u001b[0m 59ms/step - loss: 22.6886\n",
            "Epoch 51/75\n",
            "\u001b[1m1/1\u001b[0m \u001b[32m━━━━━━━━━━━━━━━━━━━━\u001b[0m\u001b[37m\u001b[0m \u001b[1m0s\u001b[0m 31ms/step - loss: 22.5705\n",
            "Epoch 52/75\n",
            "\u001b[1m1/1\u001b[0m \u001b[32m━━━━━━━━━━━━━━━━━━━━\u001b[0m\u001b[37m\u001b[0m \u001b[1m0s\u001b[0m 34ms/step - loss: 22.4517\n",
            "Epoch 53/75\n",
            "\u001b[1m1/1\u001b[0m \u001b[32m━━━━━━━━━━━━━━━━━━━━\u001b[0m\u001b[37m\u001b[0m \u001b[1m0s\u001b[0m 59ms/step - loss: 22.3323\n",
            "Epoch 54/75\n",
            "\u001b[1m1/1\u001b[0m \u001b[32m━━━━━━━━━━━━━━━━━━━━\u001b[0m\u001b[37m\u001b[0m \u001b[1m0s\u001b[0m 38ms/step - loss: 22.2123\n",
            "Epoch 55/75\n",
            "\u001b[1m1/1\u001b[0m \u001b[32m━━━━━━━━━━━━━━━━━━━━\u001b[0m\u001b[37m\u001b[0m \u001b[1m0s\u001b[0m 35ms/step - loss: 22.0916\n",
            "Epoch 56/75\n",
            "\u001b[1m1/1\u001b[0m \u001b[32m━━━━━━━━━━━━━━━━━━━━\u001b[0m\u001b[37m\u001b[0m \u001b[1m0s\u001b[0m 58ms/step - loss: 21.9704\n",
            "Epoch 57/75\n",
            "\u001b[1m1/1\u001b[0m \u001b[32m━━━━━━━━━━━━━━━━━━━━\u001b[0m\u001b[37m\u001b[0m \u001b[1m0s\u001b[0m 39ms/step - loss: 21.8485\n",
            "Epoch 58/75\n",
            "\u001b[1m1/1\u001b[0m \u001b[32m━━━━━━━━━━━━━━━━━━━━\u001b[0m\u001b[37m\u001b[0m \u001b[1m0s\u001b[0m 37ms/step - loss: 21.7261\n",
            "Epoch 59/75\n",
            "\u001b[1m1/1\u001b[0m \u001b[32m━━━━━━━━━━━━━━━━━━━━\u001b[0m\u001b[37m\u001b[0m \u001b[1m0s\u001b[0m 60ms/step - loss: 21.6030\n",
            "Epoch 60/75\n",
            "\u001b[1m1/1\u001b[0m \u001b[32m━━━━━━━━━━━━━━━━━━━━\u001b[0m\u001b[37m\u001b[0m \u001b[1m0s\u001b[0m 37ms/step - loss: 21.4794\n",
            "Epoch 61/75\n",
            "\u001b[1m1/1\u001b[0m \u001b[32m━━━━━━━━━━━━━━━━━━━━\u001b[0m\u001b[37m\u001b[0m \u001b[1m0s\u001b[0m 34ms/step - loss: 21.3553\n",
            "Epoch 62/75\n",
            "\u001b[1m1/1\u001b[0m \u001b[32m━━━━━━━━━━━━━━━━━━━━\u001b[0m\u001b[37m\u001b[0m \u001b[1m0s\u001b[0m 30ms/step - loss: 21.2305\n",
            "Epoch 63/75\n",
            "\u001b[1m1/1\u001b[0m \u001b[32m━━━━━━━━━━━━━━━━━━━━\u001b[0m\u001b[37m\u001b[0m \u001b[1m0s\u001b[0m 57ms/step - loss: 21.1053\n",
            "Epoch 64/75\n",
            "\u001b[1m1/1\u001b[0m \u001b[32m━━━━━━━━━━━━━━━━━━━━\u001b[0m\u001b[37m\u001b[0m \u001b[1m0s\u001b[0m 31ms/step - loss: 20.9795\n",
            "Epoch 65/75\n",
            "\u001b[1m1/1\u001b[0m \u001b[32m━━━━━━━━━━━━━━━━━━━━\u001b[0m\u001b[37m\u001b[0m \u001b[1m0s\u001b[0m 31ms/step - loss: 20.8532\n",
            "Epoch 66/75\n",
            "\u001b[1m1/1\u001b[0m \u001b[32m━━━━━━━━━━━━━━━━━━━━\u001b[0m\u001b[37m\u001b[0m \u001b[1m0s\u001b[0m 58ms/step - loss: 20.7263\n",
            "Epoch 67/75\n",
            "\u001b[1m1/1\u001b[0m \u001b[32m━━━━━━━━━━━━━━━━━━━━\u001b[0m\u001b[37m\u001b[0m \u001b[1m0s\u001b[0m 30ms/step - loss: 20.5990\n",
            "Epoch 68/75\n",
            "\u001b[1m1/1\u001b[0m \u001b[32m━━━━━━━━━━━━━━━━━━━━\u001b[0m\u001b[37m\u001b[0m \u001b[1m0s\u001b[0m 29ms/step - loss: 20.4712\n",
            "Epoch 69/75\n",
            "\u001b[1m1/1\u001b[0m \u001b[32m━━━━━━━━━━━━━━━━━━━━\u001b[0m\u001b[37m\u001b[0m \u001b[1m0s\u001b[0m 28ms/step - loss: 20.3428\n",
            "Epoch 70/75\n",
            "\u001b[1m1/1\u001b[0m \u001b[32m━━━━━━━━━━━━━━━━━━━━\u001b[0m\u001b[37m\u001b[0m \u001b[1m0s\u001b[0m 28ms/step - loss: 20.2141\n",
            "Epoch 71/75\n",
            "\u001b[1m1/1\u001b[0m \u001b[32m━━━━━━━━━━━━━━━━━━━━\u001b[0m\u001b[37m\u001b[0m \u001b[1m0s\u001b[0m 59ms/step - loss: 20.0848\n",
            "Epoch 72/75\n",
            "\u001b[1m1/1\u001b[0m \u001b[32m━━━━━━━━━━━━━━━━━━━━\u001b[0m\u001b[37m\u001b[0m \u001b[1m0s\u001b[0m 64ms/step - loss: 19.9552\n",
            "Epoch 73/75\n",
            "\u001b[1m1/1\u001b[0m \u001b[32m━━━━━━━━━━━━━━━━━━━━\u001b[0m\u001b[37m\u001b[0m \u001b[1m0s\u001b[0m 34ms/step - loss: 19.8250\n",
            "Epoch 74/75\n",
            "\u001b[1m1/1\u001b[0m \u001b[32m━━━━━━━━━━━━━━━━━━━━\u001b[0m\u001b[37m\u001b[0m \u001b[1m0s\u001b[0m 38ms/step - loss: 19.6945\n",
            "Epoch 75/75\n",
            "\u001b[1m1/1\u001b[0m \u001b[32m━━━━━━━━━━━━━━━━━━━━\u001b[0m\u001b[37m\u001b[0m \u001b[1m0s\u001b[0m 34ms/step - loss: 19.5636\n"
          ]
        },
        {
          "output_type": "execute_result",
          "data": {
            "text/plain": [
              "<keras.src.callbacks.history.History at 0x79da40a632e0>"
            ]
          },
          "metadata": {},
          "execution_count": 74
        }
      ]
    },
    {
      "cell_type": "code",
      "source": [],
      "metadata": {
        "id": "RhcTlQopfuqh"
      },
      "execution_count": null,
      "outputs": []
    },
    {
      "cell_type": "code",
      "source": [],
      "metadata": {
        "id": "SQKvz-vPfut_"
      },
      "execution_count": null,
      "outputs": []
    },
    {
      "cell_type": "code",
      "source": [
        "# layer_dims=  2 inp, 2 nodeshidden, 1 outputnode"
      ],
      "metadata": {
        "id": "g4Sv371vKyEq"
      },
      "execution_count": 18,
      "outputs": []
    },
    {
      "cell_type": "code",
      "source": [
        "#architecture input\n",
        "#weights init\n",
        "def initialize_parameters(layer_dims):\n",
        "  np.random.seed(3)\n",
        "  parameters= {}\n",
        "  L =len(layer_dims)\n",
        "  for l in range(1,L):\n",
        "    parameters['W' + str(l)]= np.ones ( (layer_dims[l-1] ,layer_dims[l]) )*0.1\n",
        "    parameters['b' + str(l)]= np.zeros( (layer_dims[l], 1) )\n",
        "  return parameters"
      ],
      "metadata": {
        "id": "WAzjoehDH8PY"
      },
      "execution_count": 8,
      "outputs": []
    },
    {
      "cell_type": "code",
      "source": [
        "layers_dims= [2,2,1]\n",
        "print(np.ones ( (layers_dims[0], layers_dims[1]  )) ) #2x2\n",
        "print(np.ones ( (layers_dims[1], layers_dims[2]  )))  #2x1\n",
        "\n",
        "print(np.ones ( (1,1  )))"
      ],
      "metadata": {
        "colab": {
          "base_uri": "https://localhost:8080/"
        },
        "id": "_2GFAxW9KJQv",
        "outputId": "7e184584-bbae-443b-9be6-430c497c1b22"
      },
      "execution_count": 31,
      "outputs": [
        {
          "output_type": "stream",
          "name": "stdout",
          "text": [
            "[[1. 1.]\n",
            " [1. 1.]]\n",
            "[[1.]\n",
            " [1.]]\n",
            "[[1.]]\n"
          ]
        }
      ]
    },
    {
      "cell_type": "code",
      "source": [
        "len([2,2,1])"
      ],
      "metadata": {
        "colab": {
          "base_uri": "https://localhost:8080/"
        },
        "id": "BGYxFoYwJuwF",
        "outputId": "ae1a1525-e7a6-47c0-ab3d-c3c63dac14af"
      },
      "execution_count": 12,
      "outputs": [
        {
          "output_type": "execute_result",
          "data": {
            "text/plain": [
              "3"
            ]
          },
          "metadata": {},
          "execution_count": 12
        }
      ]
    },
    {
      "cell_type": "code",
      "source": [
        "len(initialize_parameters([2,2,1]))"
      ],
      "metadata": {
        "colab": {
          "base_uri": "https://localhost:8080/"
        },
        "id": "g_aAwCvWH8U2",
        "outputId": "a3906fdb-d2d0-4cfa-96e6-98c40a6510fc"
      },
      "execution_count": 34,
      "outputs": [
        {
          "output_type": "execute_result",
          "data": {
            "text/plain": [
              "4"
            ]
          },
          "metadata": {},
          "execution_count": 34
        }
      ]
    },
    {
      "cell_type": "code",
      "source": [
        "def linear_forward(A_prev, W, b):\n",
        "  Z= np.dot(W.T, A_prev) + b\n",
        "  return Z"
      ],
      "metadata": {
        "id": "Hygd8LNWH8X-"
      },
      "execution_count": 33,
      "outputs": []
    },
    {
      "cell_type": "code",
      "source": [
        "#forward propogation\n",
        "def L_layer_forward(X, parameters):\n",
        "  A= X\n",
        "  L= len(parameters) //2  #number of layers in the neural network\n",
        "  for l in range(1 , L+1):\n",
        "    A_prev= A\n",
        "    W1= parameters['W' + str(l)]\n",
        "    b1= parameters['b' + str(l)]\n",
        "    print(\"A\"+str(l-1)+\": \", A_prev)\n",
        "    print(\"W\"+str(l)+\": \", W1)\n",
        "    print(\"b\"+str(l)+\": \", b1)\n",
        "    print(\"--\"*20)\n",
        "\n",
        "    A= linear_forward(A_prev, W1, b1)\n",
        "    print(\"A\"+str(l)+\": \", A)\n",
        "\n",
        "    print(\"--\"*20)\n",
        "\n",
        "  return A, A_prev\n",
        "\n"
      ],
      "metadata": {
        "id": "uBsnjCZrH8bU"
      },
      "execution_count": 49,
      "outputs": []
    },
    {
      "cell_type": "code",
      "source": [
        "A1[0][0]"
      ],
      "metadata": {
        "colab": {
          "base_uri": "https://localhost:8080/"
        },
        "id": "COKGOyQ3WEYu",
        "outputId": "78f9c0a2-8b1e-470c-ebfa-124d46867d3f"
      },
      "execution_count": 44,
      "outputs": [
        {
          "output_type": "execute_result",
          "data": {
            "text/plain": [
              "1.6"
            ]
          },
          "metadata": {},
          "execution_count": 44
        }
      ]
    },
    {
      "cell_type": "code",
      "source": [
        "def update_parameters(parameters, y ,y_hat ,A1, X):\n",
        "  parameters[\"W2\"][0][0]+= 2*(0.001 * (y - y_hat)*A1[0][0]).item()\n",
        "  parameters[\"W2\"][1][0]+= 2*(0.001 * (y - y_hat)*A1[0][0]).item()\n",
        "  parameters[\"b2\"][0][0]+= 2*(0.001 * (y - y_hat)).item()\n",
        "\n",
        "  parameters[\"W1\"][0][0]+= 2*(0.001 * (y - y_hat)*parameters[\"W2\"][0][0]*X[0][0]).item()\n",
        "  parameters[\"W1\"][0][1]+= 2*(0.001 * (y - y_hat)*parameters[\"W2\"][0][0]*X[1][0]).item()\n",
        "  parameters[\"b1\"][0][0]+= 2*(0.001 * (y - y_hat)*parameters[\"W2\"][0][0]).item()\n",
        "\n",
        "  parameters[\"W1\"][1][0]+= 2*(0.001 * (y - y_hat)*parameters[\"W2\"][1][0]*X[0][0]).item()\n",
        "  parameters[\"W1\"][1][1]+= 2*(0.001 * (y - y_hat)*parameters[\"W2\"][1][0]*X[1][0]).item()\n",
        "  parameters[\"b1\"][1][0]+= 2*(0.001 * (y - y_hat)*parameters[\"W2\"][1][0]).item()\n"
      ],
      "metadata": {
        "id": "G8eoutdDH8g8"
      },
      "execution_count": 62,
      "outputs": []
    },
    {
      "cell_type": "code",
      "source": [
        "X= df[[\"X1\" ,\"X2\"]].values[0].reshape(2,1)    # no.of feat x no.of training examples\n",
        "y= df[[\"Y\"]].values[0][0]   # just the value\n",
        "\n",
        "#init parameters\n",
        "parameters= initialize_parameters([2,2,1])\n",
        "\n",
        "y_hat,A1= L_layer_forward(X, parameters)\n",
        "update_parameters(parameters, y ,y_hat ,A1, X)\n",
        "parameters"
      ],
      "metadata": {
        "colab": {
          "base_uri": "https://localhost:8080/"
        },
        "id": "U6JNwi-VH8d_",
        "outputId": "5f5e634b-ca92-4e8f-ef8b-eee954862614"
      },
      "execution_count": 63,
      "outputs": [
        {
          "output_type": "stream",
          "name": "stdout",
          "text": [
            "A0:  [[8]\n",
            " [8]]\n",
            "W1:  [[0.1 0.1]\n",
            " [0.1 0.1]]\n",
            "b1:  [[0.]\n",
            " [0.]]\n",
            "----------------------------------------\n",
            "A1:  [[1.6]\n",
            " [1.6]]\n",
            "----------------------------------------\n",
            "A1:  [[1.6]\n",
            " [1.6]]\n",
            "W2:  [[0.1]\n",
            " [0.1]]\n",
            "b2:  [[0.]]\n",
            "----------------------------------------\n",
            "A2:  [[0.32]]\n",
            "----------------------------------------\n"
          ]
        },
        {
          "output_type": "execute_result",
          "data": {
            "text/plain": [
              "{'W1': array([[0.10658137, 0.10658137],\n",
              "        [0.10658137, 0.10658137]]),\n",
              " 'b1': array([[0.00082267],\n",
              "        [0.00082267]]),\n",
              " 'W2': array([[0.111776],\n",
              "        [0.111776]]),\n",
              " 'b2': array([[0.00736]])}"
            ]
          },
          "metadata": {},
          "execution_count": 63
        }
      ]
    },
    {
      "cell_type": "code",
      "source": [
        "X= df[[\"X1\" ,\"X2\"]].values[1].reshape(2,1)    # no.of feat x no.of training examples\n",
        "y= df[[\"Y\"]].values[1][0]   # just the value\n",
        "\n",
        "#init parameters\n",
        "parameters= initialize_parameters([2,2,1])\n",
        "\n",
        "y_hat,A1= L_layer_forward(X, parameters)\n",
        "update_parameters(parameters, y ,y_hat ,A1, X)\n",
        "parameters"
      ],
      "metadata": {
        "colab": {
          "base_uri": "https://localhost:8080/"
        },
        "id": "qPds77pQH8lH",
        "outputId": "7bbe1371-abff-483f-e92f-99ff8ba13dca"
      },
      "execution_count": 64,
      "outputs": [
        {
          "output_type": "stream",
          "name": "stdout",
          "text": [
            "A0:  [[7]\n",
            " [9]]\n",
            "W1:  [[0.1 0.1]\n",
            " [0.1 0.1]]\n",
            "b1:  [[0.]\n",
            " [0.]]\n",
            "----------------------------------------\n",
            "A1:  [[1.6]\n",
            " [1.6]]\n",
            "----------------------------------------\n",
            "A1:  [[1.6]\n",
            " [1.6]]\n",
            "W2:  [[0.1]\n",
            " [0.1]]\n",
            "b2:  [[0.]]\n",
            "----------------------------------------\n",
            "A2:  [[0.32]]\n",
            "----------------------------------------\n"
          ]
        },
        {
          "output_type": "execute_result",
          "data": {
            "text/plain": [
              "{'W1': array([[0.10753323, 0.10968558],\n",
              "        [0.10753323, 0.10968558]]),\n",
              " 'b1': array([[0.00107618],\n",
              "        [0.00107618]]),\n",
              " 'W2': array([[0.114976],\n",
              "        [0.114976]]),\n",
              " 'b2': array([[0.00936]])}"
            ]
          },
          "metadata": {},
          "execution_count": 64
        }
      ]
    },
    {
      "cell_type": "code",
      "source": [
        "#epochs\n",
        "parameters= initialize_parameters([2,2,1])\n",
        "epochs= 5\n",
        "\n",
        "for i in range(epochs):\n",
        "  Loss= []\n",
        "  for j in range(df.shape[0]):\n",
        "    X= df[[\"X1\" ,\"X2\"]].values[j].reshape(2,1)    # no.of feat x no.of training examples\n",
        "    y= df[[\"Y\"]].values[j][0]   # just the value\n",
        "\n",
        "    y_hat,A1= L_layer_forward(X, parameters)\n",
        "    update_parameters(parameters, y ,y_hat ,A1, X)\n",
        "    Loss.append(np.square(y-y_hat).item())\n",
        "  print(\"Epoch - \", i+1, \"Loss - \", np.array(Loss).mean())"
      ],
      "metadata": {
        "colab": {
          "base_uri": "https://localhost:8080/"
        },
        "id": "_Ziq9YizH8ob",
        "outputId": "a1fad211-eb80-460c-fb13-254c12ab3617"
      },
      "execution_count": 65,
      "outputs": [
        {
          "output_type": "stream",
          "name": "stdout",
          "text": [
            "A0:  [[8]\n",
            " [8]]\n",
            "W1:  [[0.1 0.1]\n",
            " [0.1 0.1]]\n",
            "b1:  [[0.]\n",
            " [0.]]\n",
            "----------------------------------------\n",
            "A1:  [[1.6]\n",
            " [1.6]]\n",
            "----------------------------------------\n",
            "A1:  [[1.6]\n",
            " [1.6]]\n",
            "W2:  [[0.1]\n",
            " [0.1]]\n",
            "b2:  [[0.]]\n",
            "----------------------------------------\n",
            "A2:  [[0.32]]\n",
            "----------------------------------------\n",
            "A0:  [[7]\n",
            " [9]]\n",
            "W1:  [[0.10658137 0.10658137]\n",
            " [0.10658137 0.10658137]]\n",
            "b1:  [[0.00082267]\n",
            " [0.00082267]]\n",
            "----------------------------------------\n",
            "A1:  [[1.70612461]\n",
            " [1.70612461]]\n",
            "----------------------------------------\n",
            "A1:  [[1.70612461]\n",
            " [1.70612461]]\n",
            "W2:  [[0.111776]\n",
            " [0.111776]]\n",
            "b2:  [[0.00736]]\n",
            "----------------------------------------\n",
            "A2:  [[0.38876757]]\n",
            "----------------------------------------\n",
            "A0:  [[ 6]\n",
            " [10]]\n",
            "W1:  [[0.11481311 0.11716504]\n",
            " [0.11481311 0.11716504]]\n",
            "b1:  [[0.00199863]\n",
            " [0.00199863]]\n",
            "----------------------------------------\n",
            "A1:  [[1.83900839]\n",
            " [1.8766392 ]]\n",
            "----------------------------------------\n",
            "A1:  [[1.83900839]\n",
            " [1.8766392 ]]\n",
            "W2:  [[0.12751067]\n",
            " [0.12751067]]\n",
            "b2:  [[0.01658246]]\n",
            "----------------------------------------\n",
            "A2:  [[0.49036719]]\n",
            "----------------------------------------\n",
            "A0:  [[ 5]\n",
            " [12]]\n",
            "W1:  [[0.12458335 0.13344878]\n",
            " [0.12458335 0.13344878]]\n",
            "b1:  [[0.00362701]\n",
            " [0.00362701]]\n",
            "----------------------------------------\n",
            "A1:  [[2.12154404]\n",
            " [2.27225621]]\n",
            "----------------------------------------\n",
            "A1:  [[2.12154404]\n",
            " [2.27225621]]\n",
            "W2:  [[0.1477752]\n",
            " [0.1477752]]\n",
            "b2:  [[0.02760173]]\n",
            "----------------------------------------\n",
            "A2:  [[0.67689642]]\n",
            "----------------------------------------\n",
            "Epoch -  1 Loss -  26.28588925661292\n",
            "A0:  [[8]\n",
            " [8]]\n",
            "W1:  [[0.13562379 0.15994582]\n",
            " [0.13562379 0.15994582]]\n",
            "b1:  [[0.0058351]\n",
            " [0.0058351]]\n",
            "----------------------------------------\n",
            "A1:  [[2.17581573]\n",
            " [2.56496822]]\n",
            "----------------------------------------\n",
            "A1:  [[2.17581573]\n",
            " [2.56496822]]\n",
            "W2:  [[0.17460468]\n",
            " [0.17460468]]\n",
            "b2:  [[0.04024794]]\n",
            "----------------------------------------\n",
            "A2:  [[0.86801101]]\n",
            "----------------------------------------\n",
            "A0:  [[7]\n",
            " [9]]\n",
            "W1:  [[0.14505654 0.16937857]\n",
            " [0.14505654 0.16937857]]\n",
            "b1:  [[0.00701419]\n",
            " [0.00701419]]\n",
            "----------------------------------------\n",
            "A1:  [[2.32791876]\n",
            " [2.71707125]]\n",
            "----------------------------------------\n",
            "A1:  [[2.32791876]\n",
            " [2.71707125]]\n",
            "W2:  [[0.18823394]\n",
            " [0.18823394]]\n",
            "b2:  [[0.04651192]]\n",
            "----------------------------------------\n",
            "A2:  [[0.99615028]]\n",
            "----------------------------------------\n",
            "A0:  [[ 6]\n",
            " [10]]\n",
            "W1:  [[0.1566527  0.18428792]\n",
            " [0.1566527  0.18428792]]\n",
            "b1:  [[0.00867078]\n",
            " [0.00867078]]\n",
            "----------------------------------------\n",
            "A1:  [[2.51511395]\n",
            " [2.95727746]]\n",
            "----------------------------------------\n",
            "A1:  [[2.51511395]\n",
            " [2.95727746]]\n",
            "W2:  [[0.20687522]\n",
            " [0.20687522]]\n",
            "b2:  [[0.05451962]]\n",
            "----------------------------------------\n",
            "A2:  [[1.18662178]]\n",
            "----------------------------------------\n",
            "A0:  [[ 5]\n",
            " [12]]\n",
            "W1:  [[0.17000044 0.20653416]\n",
            " [0.17000044 0.20653416]]\n",
            "b1:  [[0.01089541]\n",
            " [0.01089541]]\n",
            "----------------------------------------\n",
            "A1:  [[2.90090293]\n",
            " [3.5219761 ]]\n",
            "----------------------------------------\n",
            "A1:  [[2.90090293]\n",
            " [3.5219761 ]]\n",
            "W2:  [[0.23108761]\n",
            " [0.23108761]]\n",
            "b2:  [[0.06414637]]\n",
            "----------------------------------------\n",
            "A2:  [[1.54839411]]\n",
            "----------------------------------------\n",
            "Epoch -  2 Loss -  19.68219607054713\n",
            "A0:  [[8]\n",
            " [8]]\n",
            "W1:  [[0.18432272 0.24090764]\n",
            " [0.18432272 0.24090764]]\n",
            "b1:  [[0.01375986]\n",
            " [0.01375986]]\n",
            "----------------------------------------\n",
            "A1:  [[2.96292346]\n",
            " [3.86828206]]\n",
            "----------------------------------------\n",
            "A1:  [[2.96292346]\n",
            " [3.86828206]]\n",
            "W2:  [[0.26271677]\n",
            " [0.26271677]]\n",
            "b2:  [[0.07504958]]\n",
            "----------------------------------------\n",
            "A2:  [[1.8697218]]\n",
            "----------------------------------------\n",
            "A0:  [[7]\n",
            " [9]]\n",
            "W1:  [[0.19370755 0.25029247]\n",
            " [0.19370755 0.25029247]]\n",
            "b1:  [[0.01493297]\n",
            " [0.01493297]]\n",
            "----------------------------------------\n",
            "A1:  [[3.11425383]\n",
            " [4.01961242]]\n",
            "----------------------------------------\n",
            "A1:  [[3.11425383]\n",
            " [4.01961242]]\n",
            "W2:  [[0.27534047]\n",
            " [0.27534047]]\n",
            "b2:  [[0.07931014]]\n",
            "----------------------------------------\n",
            "A2:  [[2.04355221]]\n",
            "----------------------------------------\n",
            "A0:  [[ 6]\n",
            " [10]]\n",
            "W1:  [[0.20586614 0.26592493]\n",
            " [0.20586614 0.26592493]]\n",
            "b1:  [[0.01666991]\n",
            " [0.01666991]]\n",
            "----------------------------------------\n",
            "A1:  [[3.31052816]\n",
            " [4.27146887]]\n",
            "----------------------------------------\n",
            "A1:  [[3.31052816]\n",
            " [4.27146887]]\n",
            "W2:  [[0.29375473]\n",
            " [0.29375473]]\n",
            "b2:  [[0.08522304]]\n",
            "----------------------------------------\n",
            "A2:  [[2.31247049]]\n",
            "----------------------------------------\n",
            "A0:  [[ 5]\n",
            " [12]]\n",
            "W1:  [[0.21994528 0.28939017]\n",
            " [0.21994528 0.28939017]]\n",
            "b1:  [[0.01901643]\n",
            " [0.01901643]]\n",
            "----------------------------------------\n",
            "A1:  [[3.75808617]\n",
            " [4.93864924]]\n",
            "----------------------------------------\n",
            "A1:  [[3.75808617]\n",
            " [4.93864924]]\n",
            "W2:  [[0.31817007]\n",
            " [0.31817007]]\n",
            "b2:  [[0.09259809]]\n",
            "----------------------------------------\n",
            "A2:  [[2.85963898]]\n",
            "----------------------------------------\n",
            "Epoch -  3 Loss -  11.004783004505285\n",
            "A0:  [[8]\n",
            " [8]]\n",
            "W1:  [[0.23440713 0.32409862]\n",
            " [0.23440713 0.32409862]]\n",
            "b1:  [[0.0219088]\n",
            " [0.0219088]]\n",
            "----------------------------------------\n",
            "A1:  [[3.77242296]\n",
            " [5.20748671]]\n",
            "----------------------------------------\n",
            "A1:  [[3.77242296]\n",
            " [5.20748671]]\n",
            "W2:  [[0.34928973]\n",
            " [0.34928973]]\n",
            "b2:  [[0.10087882]]\n",
            "----------------------------------------\n",
            "A2:  [[3.23746907]]\n",
            "----------------------------------------\n",
            "A0:  [[7]\n",
            " [9]]\n",
            "W1:  [[0.23873883 0.32843032]\n",
            " [0.23873883 0.32843032]]\n",
            "b1:  [[0.02245026]\n",
            " [0.02245026]]\n",
            "----------------------------------------\n",
            "A1:  [[3.84227161]\n",
            " [5.27733536]]\n",
            "----------------------------------------\n",
            "A1:  [[3.84227161]\n",
            " [5.27733536]]\n",
            "W2:  [[0.35504291]\n",
            " [0.35504291]]\n",
            "b2:  [[0.10240388]]\n",
            "----------------------------------------\n",
            "A2:  [[3.34025569]]\n",
            "----------------------------------------\n",
            "A0:  [[ 6]\n",
            " [10]]\n",
            "W1:  [[0.24728513 0.33941841]\n",
            " [0.24728513 0.33941841]]\n",
            "b1:  [[0.02367116]\n",
            " [0.02367116]]\n",
            "----------------------------------------\n",
            "A1:  [[3.98023319]\n",
            " [5.45436571]]\n",
            "----------------------------------------\n",
            "A1:  [[3.98023319]\n",
            " [5.45436571]]\n",
            "W2:  [[0.36779729]\n",
            " [0.36779729]]\n",
            "b2:  [[0.10572337]]\n",
            "----------------------------------------\n",
            "A2:  [[3.57574326]]\n",
            "----------------------------------------\n",
            "A0:  [[ 5]\n",
            " [12]]\n",
            "W1:  [[0.25854615 0.35818679]\n",
            " [0.25854615 0.35818679]]\n",
            "b1:  [[0.025548]\n",
            " [0.025548]]\n",
            "----------------------------------------\n",
            "A1:  [[4.4208326 ]\n",
            " [6.11472337]]\n",
            "----------------------------------------\n",
            "A1:  [[4.4208326 ]\n",
            " [6.11472337]]\n",
            "W2:  [[0.3870955]\n",
            " [0.3870955]]\n",
            "b2:  [[0.11057188]]\n",
            "----------------------------------------\n",
            "A2:  [[4.18883822]]\n",
            "----------------------------------------\n",
            "Epoch -  4 Loss -  4.278963975952342\n",
            "A0:  [[8]\n",
            " [8]]\n",
            "W1:  [[0.27012676 0.38598024]\n",
            " [0.27012676 0.38598024]]\n",
            "b1:  [[0.02786412]\n",
            " [0.02786412]]\n",
            "----------------------------------------\n",
            "A1:  [[4.34989225]\n",
            " [6.20354794]]\n",
            "----------------------------------------\n",
            "A1:  [[4.34989225]\n",
            " [6.20354794]]\n",
            "W2:  [[0.41195085]\n",
            " [0.41195085]]\n",
            "b2:  [[0.1161942]]\n",
            "----------------------------------------\n",
            "A2:  [[4.4636929]]\n",
            "----------------------------------------\n",
            "A0:  [[7]\n",
            " [9]]\n",
            "W1:  [[0.26710039 0.38295387]\n",
            " [0.26710039 0.38295387]]\n",
            "b1:  [[0.02748583]\n",
            " [0.02748583]]\n",
            "----------------------------------------\n",
            "A1:  [[4.30109203]\n",
            " [6.15474772]]\n",
            "----------------------------------------\n",
            "A1:  [[4.30109203]\n",
            " [6.15474772]]\n",
            "W2:  [[0.40791683]\n",
            " [0.40791683]]\n",
            "b2:  [[0.11526682]]\n",
            "----------------------------------------\n",
            "A2:  [[4.38037978]]\n",
            "----------------------------------------\n",
            "A0:  [[ 6]\n",
            " [10]]\n",
            "W1:  [[0.27068517 0.38756288]\n",
            " [0.27068517 0.38756288]]\n",
            "b1:  [[0.02799794]\n",
            " [0.02799794]]\n",
            "----------------------------------------\n",
            "A1:  [[4.35896072]\n",
            " [6.229004  ]]\n",
            "----------------------------------------\n",
            "A1:  [[4.35896072]\n",
            " [6.229004  ]]\n",
            "W2:  [[0.41324691]\n",
            " [0.41324691]]\n",
            "b2:  [[0.11650606]]\n",
            "----------------------------------------\n",
            "A2:  [[4.49194979]]\n",
            "----------------------------------------\n",
            "A0:  [[ 5]\n",
            " [12]]\n",
            "W1:  [[0.27840146 0.40042335]\n",
            " [0.27840146 0.40042335]]\n",
            "b1:  [[0.02928399]\n",
            " [0.02928399]]\n",
            "----------------------------------------\n",
            "A1:  [[4.76210874]\n",
            " [6.83648092]]\n",
            "----------------------------------------\n",
            "A1:  [[4.76210874]\n",
            " [6.83648092]]\n",
            "W2:  [[0.42639398]\n",
            " [0.42639398]]\n",
            "b2:  [[0.11952216]]\n",
            "----------------------------------------\n",
            "A2:  [[5.06509092]]\n",
            "----------------------------------------\n",
            "Epoch -  5 Loss -  1.654257220991016\n"
          ]
        }
      ]
    },
    {
      "cell_type": "code",
      "source": [],
      "metadata": {
        "id": "lSPvynKHH8qo"
      },
      "execution_count": null,
      "outputs": []
    },
    {
      "cell_type": "code",
      "source": [],
      "metadata": {
        "id": "yRKuxoVJH8sz"
      },
      "execution_count": null,
      "outputs": []
    },
    {
      "cell_type": "code",
      "source": [],
      "metadata": {
        "id": "A_cAIpqQH8vc"
      },
      "execution_count": null,
      "outputs": []
    },
    {
      "cell_type": "code",
      "source": [],
      "metadata": {
        "id": "ctXZuFwQH8x6"
      },
      "execution_count": null,
      "outputs": []
    },
    {
      "cell_type": "code",
      "source": [],
      "metadata": {
        "id": "2lFG97fvH80D"
      },
      "execution_count": null,
      "outputs": []
    },
    {
      "cell_type": "code",
      "source": [],
      "metadata": {
        "id": "T72SRXuPH82D"
      },
      "execution_count": null,
      "outputs": []
    },
    {
      "cell_type": "code",
      "source": [],
      "metadata": {
        "id": "2nXqQy0ZH844"
      },
      "execution_count": null,
      "outputs": []
    }
  ]
}